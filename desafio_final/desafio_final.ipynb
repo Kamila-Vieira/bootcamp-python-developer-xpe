{
  "cells": [
    {
      "cell_type": "markdown",
      "metadata": {
        "id": "QnzUeHhNr1Ms"
      },
      "source": [
        "Um modelo de machine learning foi desenvolvido em Python para realizar a\n",
        "previsão do salário anual de uma pessoa baseado nos anos de experiência que\n",
        "essa pessoa possui. \n",
        "\n",
        "O dataset utilizado para treinamento possui duas variáveis:\n",
        " - YearsExperience: variável numérica que representa os anos de\n",
        "experiência da pessoa;\n",
        "\n",
        " - Salary: variável numérica que representa o salário anual da pessoa.\n",
        "\n",
        "Os alunos deverão desempenhar as seguintes atividades:\n",
        "\n",
        "1. Baixar e carregar os dados utilizados para treinamento utilizando a\n",
        "biblioteca Pandas (https://pandas.pydata.org/) para análise exploratória;\n",
        "\n",
        "2. Replicar o código de requisição para que novas previsões possam ser\n",
        "realizadas"
      ]
    },
    {
      "cell_type": "code",
      "execution_count": 1,
      "metadata": {
        "id": "avU7UyPAr060"
      },
      "outputs": [],
      "source": [
        "# Dataset utilizado: https://pycourse.s3.amazonaws.com/Salary.csv\n",
        "# URL do endpoint: https://as5jmctylk.execute-api.us-east1.amazonaws.com/default/demo_forecast\n",
        "\n",
        "import pandas as pd\n",
        "import requests\n",
        "import json"
      ]
    },
    {
      "cell_type": "code",
      "execution_count": 2,
      "metadata": {
        "colab": {
          "base_uri": "https://localhost:8080/",
          "height": 206
        },
        "id": "U4SAlj9BtEAX",
        "outputId": "052f7b92-acee-46c0-9262-af6846a81b2d"
      },
      "outputs": [
        {
          "data": {
            "text/html": [
              "\n",
              "  <div id=\"df-6dc2beeb-5e9c-4628-a7b4-1581e956ffe9\">\n",
              "    <div class=\"colab-df-container\">\n",
              "      <div>\n",
              "<style scoped>\n",
              "    .dataframe tbody tr th:only-of-type {\n",
              "        vertical-align: middle;\n",
              "    }\n",
              "\n",
              "    .dataframe tbody tr th {\n",
              "        vertical-align: top;\n",
              "    }\n",
              "\n",
              "    .dataframe thead th {\n",
              "        text-align: right;\n",
              "    }\n",
              "</style>\n",
              "<table border=\"1\" class=\"dataframe\">\n",
              "  <thead>\n",
              "    <tr style=\"text-align: right;\">\n",
              "      <th></th>\n",
              "      <th>YearsExperience</th>\n",
              "      <th>Salary</th>\n",
              "    </tr>\n",
              "  </thead>\n",
              "  <tbody>\n",
              "    <tr>\n",
              "      <th>0</th>\n",
              "      <td>1.1</td>\n",
              "      <td>39343</td>\n",
              "    </tr>\n",
              "    <tr>\n",
              "      <th>1</th>\n",
              "      <td>1.3</td>\n",
              "      <td>46205</td>\n",
              "    </tr>\n",
              "    <tr>\n",
              "      <th>2</th>\n",
              "      <td>1.5</td>\n",
              "      <td>37731</td>\n",
              "    </tr>\n",
              "    <tr>\n",
              "      <th>3</th>\n",
              "      <td>2.0</td>\n",
              "      <td>43525</td>\n",
              "    </tr>\n",
              "    <tr>\n",
              "      <th>4</th>\n",
              "      <td>2.2</td>\n",
              "      <td>39891</td>\n",
              "    </tr>\n",
              "  </tbody>\n",
              "</table>\n",
              "</div>\n",
              "      <button class=\"colab-df-convert\" onclick=\"convertToInteractive('df-6dc2beeb-5e9c-4628-a7b4-1581e956ffe9')\"\n",
              "              title=\"Convert this dataframe to an interactive table.\"\n",
              "              style=\"display:none;\">\n",
              "        \n",
              "  <svg xmlns=\"http://www.w3.org/2000/svg\" height=\"24px\"viewBox=\"0 0 24 24\"\n",
              "       width=\"24px\">\n",
              "    <path d=\"M0 0h24v24H0V0z\" fill=\"none\"/>\n",
              "    <path d=\"M18.56 5.44l.94 2.06.94-2.06 2.06-.94-2.06-.94-.94-2.06-.94 2.06-2.06.94zm-11 1L8.5 8.5l.94-2.06 2.06-.94-2.06-.94L8.5 2.5l-.94 2.06-2.06.94zm10 10l.94 2.06.94-2.06 2.06-.94-2.06-.94-.94-2.06-.94 2.06-2.06.94z\"/><path d=\"M17.41 7.96l-1.37-1.37c-.4-.4-.92-.59-1.43-.59-.52 0-1.04.2-1.43.59L10.3 9.45l-7.72 7.72c-.78.78-.78 2.05 0 2.83L4 21.41c.39.39.9.59 1.41.59.51 0 1.02-.2 1.41-.59l7.78-7.78 2.81-2.81c.8-.78.8-2.07 0-2.86zM5.41 20L4 18.59l7.72-7.72 1.47 1.35L5.41 20z\"/>\n",
              "  </svg>\n",
              "      </button>\n",
              "      \n",
              "  <style>\n",
              "    .colab-df-container {\n",
              "      display:flex;\n",
              "      flex-wrap:wrap;\n",
              "      gap: 12px;\n",
              "    }\n",
              "\n",
              "    .colab-df-convert {\n",
              "      background-color: #E8F0FE;\n",
              "      border: none;\n",
              "      border-radius: 50%;\n",
              "      cursor: pointer;\n",
              "      display: none;\n",
              "      fill: #1967D2;\n",
              "      height: 32px;\n",
              "      padding: 0 0 0 0;\n",
              "      width: 32px;\n",
              "    }\n",
              "\n",
              "    .colab-df-convert:hover {\n",
              "      background-color: #E2EBFA;\n",
              "      box-shadow: 0px 1px 2px rgba(60, 64, 67, 0.3), 0px 1px 3px 1px rgba(60, 64, 67, 0.15);\n",
              "      fill: #174EA6;\n",
              "    }\n",
              "\n",
              "    [theme=dark] .colab-df-convert {\n",
              "      background-color: #3B4455;\n",
              "      fill: #D2E3FC;\n",
              "    }\n",
              "\n",
              "    [theme=dark] .colab-df-convert:hover {\n",
              "      background-color: #434B5C;\n",
              "      box-shadow: 0px 1px 3px 1px rgba(0, 0, 0, 0.15);\n",
              "      filter: drop-shadow(0px 1px 2px rgba(0, 0, 0, 0.3));\n",
              "      fill: #FFFFFF;\n",
              "    }\n",
              "  </style>\n",
              "\n",
              "      <script>\n",
              "        const buttonEl =\n",
              "          document.querySelector('#df-6dc2beeb-5e9c-4628-a7b4-1581e956ffe9 button.colab-df-convert');\n",
              "        buttonEl.style.display =\n",
              "          google.colab.kernel.accessAllowed ? 'block' : 'none';\n",
              "\n",
              "        async function convertToInteractive(key) {\n",
              "          const element = document.querySelector('#df-6dc2beeb-5e9c-4628-a7b4-1581e956ffe9');\n",
              "          const dataTable =\n",
              "            await google.colab.kernel.invokeFunction('convertToInteractive',\n",
              "                                                     [key], {});\n",
              "          if (!dataTable) return;\n",
              "\n",
              "          const docLinkHtml = 'Like what you see? Visit the ' +\n",
              "            '<a target=\"_blank\" href=https://colab.research.google.com/notebooks/data_table.ipynb>data table notebook</a>'\n",
              "            + ' to learn more about interactive tables.';\n",
              "          element.innerHTML = '';\n",
              "          dataTable['output_type'] = 'display_data';\n",
              "          await google.colab.output.renderOutput(dataTable, element);\n",
              "          const docLink = document.createElement('div');\n",
              "          docLink.innerHTML = docLinkHtml;\n",
              "          element.appendChild(docLink);\n",
              "        }\n",
              "      </script>\n",
              "    </div>\n",
              "  </div>\n",
              "  "
            ],
            "text/plain": [
              "   YearsExperience  Salary\n",
              "0              1.1   39343\n",
              "1              1.3   46205\n",
              "2              1.5   37731\n",
              "3              2.0   43525\n",
              "4              2.2   39891"
            ]
          },
          "execution_count": 2,
          "metadata": {},
          "output_type": "execute_result"
        }
      ],
      "source": [
        "df = pd.read_csv('https://pycourse.s3.amazonaws.com/Salary.csv')\n",
        "df.head()"
      ]
    },
    {
      "cell_type": "code",
      "execution_count": 5,
      "metadata": {
        "colab": {
          "base_uri": "https://localhost:8080/"
        },
        "id": "7feRHfpRtYwb",
        "outputId": "c98be04f-5243-4fe0-cfa9-eb111e9741c2"
      },
      "outputs": [
        {
          "data": {
            "text/plain": [
              "{'Jonas': 72519.23, 'Maria': 46323.41, 'Miguel': 128403.65}"
            ]
          },
          "execution_count": 5,
          "metadata": {},
          "output_type": "execute_result"
        }
      ],
      "source": [
        "url = 'https://as5jmctylk.execute-api.us-east-1.amazonaws.com/default/demo_forecast'\n",
        "\n",
        "data = {\n",
        "    'Jonas': 5,\n",
        "    'Maria': 2,\n",
        "    'Miguel': 11.4\n",
        "}\n",
        "\n",
        "request = requests.post(url, data=json.dumps(data))\n",
        "\n",
        "response = request.json()\n",
        "\n",
        "response"
      ]
    },
    {
      "cell_type": "code",
      "execution_count": 11,
      "metadata": {
        "colab": {
          "base_uri": "https://localhost:8080/"
        },
        "id": "6cEc2sUKylkn",
        "outputId": "dc1d8f0f-bafc-4d9a-e356-a14c0f8decb5"
      },
      "outputs": [
        {
          "name": "stdout",
          "output_type": "stream",
          "text": [
            "<class 'pandas.core.frame.DataFrame'>\n",
            "RangeIndex: 35 entries, 0 to 34\n",
            "Data columns (total 2 columns):\n",
            " #   Column           Non-Null Count  Dtype  \n",
            "---  ------           --------------  -----  \n",
            " 0   YearsExperience  35 non-null     float64\n",
            " 1   Salary           35 non-null     int64  \n",
            "dtypes: float64(1), int64(1)\n",
            "memory usage: 688.0 bytes\n"
          ]
        }
      ],
      "source": [
        "# Qual a dimensão (Número Linhas, Número colunas) do dataset utilizado no treinamento?\n",
        "\n",
        "df.info() # (35, 3)"
      ]
    },
    {
      "cell_type": "code",
      "execution_count": 12,
      "metadata": {
        "colab": {
          "base_uri": "https://localhost:8080/"
        },
        "id": "hVlblyqjy9Q4",
        "outputId": "5cb0b3fd-8d45-4223-9e56-78ac6645419d"
      },
      "outputs": [
        {
          "data": {
            "text/plain": [
              "dict"
            ]
          },
          "execution_count": 12,
          "metadata": {},
          "output_type": "execute_result"
        }
      ],
      "source": [
        "# Considerando o código apresentado na Figura 2, qual o tipo da variável data?\n",
        "\n",
        "type(data)"
      ]
    },
    {
      "cell_type": "code",
      "execution_count": 14,
      "metadata": {
        "colab": {
          "base_uri": "https://localhost:8080/"
        },
        "id": "C4rcn9YCzEu5",
        "outputId": "6bc20366-9419-4028-80e7-7ea273816333"
      },
      "outputs": [
        {
          "data": {
            "text/plain": [
              "dict"
            ]
          },
          "execution_count": 14,
          "metadata": {},
          "output_type": "execute_result"
        }
      ],
      "source": [
        "# Considerando o código apresentado na Figura 2, qual o tipo da variável response?\n",
        "\n",
        "type(response)"
      ]
    },
    {
      "cell_type": "code",
      "execution_count": 16,
      "metadata": {
        "colab": {
          "base_uri": "https://localhost:8080/"
        },
        "id": "eKY4a29Dza5k",
        "outputId": "100bbb6f-d672-4134-a8e7-3523a3c357dd"
      },
      "outputs": [
        {
          "data": {
            "text/plain": [
              "6.31"
            ]
          },
          "execution_count": 16,
          "metadata": {},
          "output_type": "execute_result"
        }
      ],
      "source": [
        "# Baseado no dataset utilizado para treinamento, qual a média da coluna YearsExperience? Considere 2 casas decimais na sua resposta.\n",
        "\n",
        "round(df['YearsExperience'].mean(), 2)"
      ]
    },
    {
      "cell_type": "code",
      "execution_count": 17,
      "metadata": {
        "colab": {
          "base_uri": "https://localhost:8080/"
        },
        "id": "x-BvHI1Szvva",
        "outputId": "58c850f4-e66f-4c39-a7a5-1254ee5af705"
      },
      "outputs": [
        {
          "data": {
            "text/plain": [
              "83945.6"
            ]
          },
          "execution_count": 17,
          "metadata": {},
          "output_type": "execute_result"
        }
      ],
      "source": [
        "# Baseado no dataset utilizado para treinamento, qual a média da coluna Salary? Considere 2 casas decimais na sua resposta.\n",
        "\n",
        "round(df['Salary'].mean(), 2)"
      ]
    },
    {
      "cell_type": "code",
      "execution_count": 21,
      "metadata": {
        "colab": {
          "base_uri": "https://localhost:8080/"
        },
        "id": "ljqtPJCkz-5Q",
        "outputId": "817f2251-a979-47c7-d470-014d354d109b"
      },
      "outputs": [
        {
          "data": {
            "text/plain": [
              "35766.36"
            ]
          },
          "execution_count": 21,
          "metadata": {},
          "output_type": "execute_result"
        }
      ],
      "source": [
        "# Baseado no dataset utilizado para treinamento, qual o valor da maior razão Salary/YearsExperience? Considere 2 casas decimais na sua resposta.\n",
        "\n",
        "cond = round(df['Salary'] / df['YearsExperience'], 2).max()\n",
        "\n",
        "cond"
      ]
    },
    {
      "cell_type": "code",
      "execution_count": 22,
      "metadata": {
        "colab": {
          "base_uri": "https://localhost:8080/"
        },
        "id": "qoD1NxXT4YK-",
        "outputId": "dcb479f4-fa0b-4752-9ac2-508b37813b05"
      },
      "outputs": [
        {
          "data": {
            "text/plain": [
              "10330.74"
            ]
          },
          "execution_count": 22,
          "metadata": {},
          "output_type": "execute_result"
        }
      ],
      "source": [
        "# Baseado no dataset utilizado para treinamento, qual o valor da menor razão Salary/YearsExperience? Considere 2 casas decimais na sua resposta.\n",
        "\n",
        "cond = round(df['Salary'] / df['YearsExperience'], 2).min()\n",
        "\n",
        "cond"
      ]
    },
    {
      "cell_type": "code",
      "execution_count": 25,
      "metadata": {
        "colab": {
          "base_uri": "https://localhost:8080/"
        },
        "id": "fXwKT8OC4tGw",
        "outputId": "fac684d5-1c9e-4861-fbf3-30f9b29a6b15"
      },
      "outputs": [
        {
          "data": {
            "text/plain": [
              "0    1.1\n",
              "Name: YearsExperience, dtype: float64"
            ]
          },
          "execution_count": 25,
          "metadata": {},
          "output_type": "execute_result"
        }
      ],
      "source": [
        "# Baseado no dataset utilizado para treinamento, quantos anos de experiência tem a pessoa com o maior valor de razão Salary/YearsExperience?\n",
        "razao = df['Salary'] / df['YearsExperience']\n",
        "cond = razao == razao.max()\n",
        "df[cond]['YearsExperience']"
      ]
    },
    {
      "cell_type": "code",
      "execution_count": 26,
      "metadata": {
        "colab": {
          "base_uri": "https://localhost:8080/"
        },
        "id": "NkdG9quS5P2E",
        "outputId": "98e97de5-1505-4ed8-fa75-7e203005dd24"
      },
      "outputs": [
        {
          "data": {
            "text/plain": [
              "34    13.5\n",
              "Name: YearsExperience, dtype: float64"
            ]
          },
          "execution_count": 26,
          "metadata": {},
          "output_type": "execute_result"
        }
      ],
      "source": [
        "# Baseado no dataset utilizado para treinamento, quantos anos de experiência tem a pessoa com o menor valor de razão Salary/YearsExperience?\n",
        "razao = df['Salary'] / df['YearsExperience']\n",
        "cond = razao == razao.min()\n",
        "df[cond]['YearsExperience']"
      ]
    },
    {
      "cell_type": "code",
      "execution_count": 28,
      "metadata": {
        "colab": {
          "base_uri": "https://localhost:8080/"
        },
        "id": "7Gn0-rgj5mD6",
        "outputId": "795c064e-e690-49f2-b0e2-0162f50935ef"
      },
      "outputs": [
        {
          "data": {
            "text/plain": [
              "{'Nome': 159838.64}"
            ]
          },
          "execution_count": 28,
          "metadata": {},
          "output_type": "execute_result"
        }
      ],
      "source": [
        "# Qual mensagem será retornada pela API ao se realizar uma requisição contendo: {\"Nome\": 15}?\n",
        "\n",
        "requests.post(url, data=json.dumps({\"Nome\": 15})).json()"
      ]
    },
    {
      "cell_type": "code",
      "execution_count": 29,
      "metadata": {
        "colab": {
          "base_uri": "https://localhost:8080/",
          "height": 35
        },
        "id": "i78uiQQi5969",
        "outputId": "a235ce53-d932-4378-afe1-2f371f822b67"
      },
      "outputs": [
        {
          "data": {
            "application/vnd.google.colaboratory.intrinsic+json": {
              "type": "string"
            },
            "text/plain": [
              "'Years of experience of user Nome must be a numeric!'"
            ]
          },
          "execution_count": 29,
          "metadata": {},
          "output_type": "execute_result"
        }
      ],
      "source": [
        "# Qual mensagem será retornada pela API ao se realizar uma requisição contendo: {\"Nome\": \"15\"}?\n",
        "\n",
        "requests.post(url, data=json.dumps({\"Nome\": \"15\"})).json()"
      ]
    },
    {
      "cell_type": "code",
      "execution_count": 30,
      "metadata": {
        "colab": {
          "base_uri": "https://localhost:8080/",
          "height": 35
        },
        "id": "UWn0BH2K6I6p",
        "outputId": "60a3c66b-cc2e-4ed4-86cc-970362c99e38"
      },
      "outputs": [
        {
          "data": {
            "application/vnd.google.colaboratory.intrinsic+json": {
              "type": "string"
            },
            "text/plain": [
              "'Years of experience of user Nome must be nonnegative!'"
            ]
          },
          "execution_count": 30,
          "metadata": {},
          "output_type": "execute_result"
        }
      ],
      "source": [
        "# Qual mensagem será retornada pela API ao se realizar uma requisição contendo: {\"Nome\": -15}?\n",
        "\n",
        "requests.post(url, data=json.dumps({\"Nome\": -15})).json()"
      ]
    },
    {
      "cell_type": "code",
      "execution_count": 31,
      "metadata": {
        "colab": {
          "base_uri": "https://localhost:8080/"
        },
        "id": "zy8Jcu3Y6VMT",
        "outputId": "3871f76c-6eed-49b9-9c28-ad99d180ba15"
      },
      "outputs": [
        {
          "data": {
            "text/plain": [
              "{'pessoa': 28859.53}"
            ]
          },
          "execution_count": 31,
          "metadata": {},
          "output_type": "execute_result"
        }
      ],
      "source": [
        "# De acordo com o modelo preditivo da API, qual o salário anual inicial para uma pessoa sem experiência profissional?\n",
        "\n",
        "requests.post(url, data=json.dumps({\"pessoa\": 0})).json()"
      ]
    },
    {
      "cell_type": "code",
      "execution_count": 41,
      "metadata": {
        "colab": {
          "base_uri": "https://localhost:8080/"
        },
        "id": "VdKH9YX56tcw",
        "outputId": "6eecc556-e443-4514-c03c-309add6fd370"
      },
      "outputs": [
        {
          "name": "stdout",
          "output_type": "stream",
          "text": [
            "True\n"
          ]
        }
      ],
      "source": [
        "# Suponha que o modelo de aprendizado de máquinas da API seja linear e possua o seguinte equacionamento: Salary = C_0 + C_1*YearsExperience. \n",
        "# Quais os valores dos coeficientes C_0 e C_1?\n",
        "\n",
        "C_0 = 28859.53\n",
        "C_1 = 8731.94\n",
        "yearsExperience = 0\n",
        "salaryRequested = requests.post(url, data=json.dumps({\"salary\": yearsExperience})).json()\n",
        "salary = salaryRequested['salary']\n",
        "\n",
        "print(C_0 + C_1*yearsExperience == salary)"
      ]
    }
  ],
  "metadata": {
    "colab": {
      "provenance": []
    },
    "kernelspec": {
      "display_name": "Python 3.9.2 ('base': venv)",
      "language": "python",
      "name": "python3"
    },
    "language_info": {
      "name": "python",
      "version": "3.9.2"
    },
    "vscode": {
      "interpreter": {
        "hash": "f1b6946008e387ac0aada60afe9b02cc32236b01f3ebf5d3fe360a6c07cf9f3f"
      }
    }
  },
  "nbformat": 4,
  "nbformat_minor": 0
}
