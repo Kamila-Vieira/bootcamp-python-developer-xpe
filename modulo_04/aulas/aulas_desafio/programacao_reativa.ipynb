{
  "nbformat": 4,
  "nbformat_minor": 0,
  "metadata": {
    "colab": {
      "provenance": []
    },
    "kernelspec": {
      "name": "python3",
      "display_name": "Python 3"
    },
    "language_info": {
      "name": "python"
    }
  },
  "cells": [
    {
      "cell_type": "code",
      "source": [
        "!pip install rx"
      ],
      "metadata": {
        "colab": {
          "base_uri": "https://localhost:8080/"
        },
        "id": "u4mJ67enztHP",
        "outputId": "796215f8-831f-426d-c308-6d059aa2d19f"
      },
      "execution_count": 2,
      "outputs": [
        {
          "output_type": "stream",
          "name": "stdout",
          "text": [
            "Looking in indexes: https://pypi.org/simple, https://us-python.pkg.dev/colab-wheels/public/simple/\n",
            "Collecting rx\n",
            "  Downloading Rx-3.2.0-py3-none-any.whl (199 kB)\n",
            "\u001b[2K     \u001b[90m━━━━━━━━━━━━━━━━━━━━━━━━━━━━━━━━━━━━━━━\u001b[0m \u001b[32m199.2/199.2 KB\u001b[0m \u001b[31m4.9 MB/s\u001b[0m eta \u001b[36m0:00:00\u001b[0m\n",
            "\u001b[?25hInstalling collected packages: rx\n",
            "Successfully installed rx-3.2.0\n"
          ]
        }
      ]
    },
    {
      "cell_type": "code",
      "execution_count": 10,
      "metadata": {
        "id": "k445G1WxzXyR"
      },
      "outputs": [],
      "source": [
        "# Parte I\n",
        "\n",
        "import rx\n",
        "import rx.operators as ops"
      ]
    },
    {
      "cell_type": "code",
      "source": [
        "source = rx.from_iterable([1,2,3,4,5,6,7])\n",
        "# source = rx.from_iterable([1,2,3,4,5,'gs',7])\n",
        "\n",
        "disposable = source.pipe(\n",
        "    ops.map(lambda i:i-1),\n",
        "    ops.filter(lambda i:i%2 == 0),\n",
        ").subscribe(\n",
        "    on_next=lambda i: print(f'on_next: {i}'),\n",
        "    on_completed=lambda: print('on_completed'),\n",
        "    on_error=lambda e: print(f'on_error: {e}'),\n",
        ")\n",
        "\n",
        "disposable.dispose()\n",
        "print('Finalizado')"
      ],
      "metadata": {
        "colab": {
          "base_uri": "https://localhost:8080/"
        },
        "id": "E0s1wTe5z4x1",
        "outputId": "6ea008d0-8498-44dd-a785-3113f982cd89"
      },
      "execution_count": 24,
      "outputs": [
        {
          "output_type": "stream",
          "name": "stdout",
          "text": [
            "on_next: 0\n",
            "on_next: 2\n",
            "on_next: 4\n",
            "on_next: 6\n",
            "on_completed\n",
            "Finalizado\n"
          ]
        }
      ]
    },
    {
      "cell_type": "code",
      "source": [
        "# Parte II\n",
        "\n",
        "from rx import create, disposable"
      ],
      "metadata": {
        "id": "yN5_nd3K2I9y"
      },
      "execution_count": 25,
      "outputs": []
    },
    {
      "cell_type": "code",
      "source": [
        "# 1º Forma\n",
        "\n",
        "# Função que recebe os Observer \n",
        "def push_five_strings(observer, scheduler):\n",
        "    observer.on_next (\"Alfa\")\n",
        "    observer.on_next(\"Beta\")\n",
        "    observer.on_next (\"Gama\")\n",
        "    observer.on_next(\"Delta\")\n",
        "    observer.on_next(\"Epsilon\")\n",
        "    observer.on_completed()\n",
        "\n",
        "class PrintObserver(disposable.Disposable):\n",
        "\n",
        "    def on_next(self, value):\n",
        "        print(f\"Recebido {value}\")\n",
        "\n",
        "    def on_completed(self):\n",
        "        print(\"Fim!\")\n",
        "\n",
        "    def on_error(self, error):\n",
        "        print(f'Erro identificado: {error}')\n",
        "\n",
        "#cria o observable\n",
        "source = create(push_five_strings)\n",
        "\n",
        "#define 0 observable\n",
        "source.subscribe(PrintObserver())"
      ],
      "metadata": {
        "colab": {
          "base_uri": "https://localhost:8080/"
        },
        "id": "8DxcqI5y1ODX",
        "outputId": "07ca6799-3e9b-4d60-a6d0-a5f511ca4b4c"
      },
      "execution_count": 26,
      "outputs": [
        {
          "output_type": "stream",
          "name": "stdout",
          "text": [
            "Recebido Alfa\n",
            "Recebido Beta\n",
            "Recebido Gama\n",
            "Recebido Delta\n",
            "Recebido Epsilon\n",
            "Fim!\n"
          ]
        },
        {
          "output_type": "execute_result",
          "data": {
            "text/plain": [
              "<rx.disposable.disposable.Disposable at 0x7f794b17f7c0>"
            ]
          },
          "metadata": {},
          "execution_count": 26
        }
      ]
    },
    {
      "cell_type": "code",
      "source": [
        "# 2º Forma\n",
        "\n",
        "from rx import of\n",
        " \n",
        "source = of(\"Alfa\", \"Beta\", \"Gama\", \"Delta\", \"Epsilon\")\n",
        "\n",
        "source.subscribe(\n",
        "    on_next= lambda i: print(f\"Rebebido {i}\"),\n",
        "    on_completed= lambda: print (\"Finalizado\"),\n",
        "    on_error= lambda e:print(f\"Erro identificado: {e}\")\n",
        ")"
      ],
      "metadata": {
        "colab": {
          "base_uri": "https://localhost:8080/"
        },
        "id": "adEdp5Og2oC2",
        "outputId": "87713b06-7422-40e9-82d9-a3b747650f88"
      },
      "execution_count": 27,
      "outputs": [
        {
          "output_type": "stream",
          "name": "stdout",
          "text": [
            "Rebebido Alfa\n",
            "Rebebido Beta\n",
            "Rebebido Gama\n",
            "Rebebido Delta\n",
            "Rebebido Epsilon\n",
            "Finalizado\n"
          ]
        },
        {
          "output_type": "execute_result",
          "data": {
            "text/plain": [
              "<rx.disposable.disposable.Disposable at 0x7f794b167610>"
            ]
          },
          "metadata": {},
          "execution_count": 27
        }
      ]
    },
    {
      "cell_type": "code",
      "source": [
        "# 1º Forma\n",
        "\n",
        "# Função de compra de ações\n",
        "stocks = [\n",
        "    {'TCKR' : 'APPL', 'PRICE': 200},\n",
        "    {'TCKR' : 'GOOG', 'PRICE': 90},\n",
        "    {'TCKR' :'TSLA', 'PRICE': 120},\n",
        "    {'TCKR' :'MSFT', 'PRICE': 150},\n",
        "    {'TCKR' : 'INTL', 'PRICE': 70},\n",
        "]\n",
        "\n",
        "def buy_stock_events(observer, scheduler):\n",
        "    for stock in stocks:\n",
        "        if stock[\"PRICE\"] > 100:\n",
        "            observer.on_next(stock[\"TCKR\"])\n",
        "            \n",
        "    observer.on_completed()\n",
        "\n",
        "class StockObserver(disposable.Disposable):\n",
        "\n",
        "    def on_next(self, value):\n",
        "        print(f\"Instruções recebidas para comprar ação {value}\")\n",
        "\n",
        "    def on_completed(self):\n",
        "        print(\"Todas as ordens de compras foram finalizadas\")\n",
        "\n",
        "    def on_error(self, error):\n",
        "        print(f\"Erro identificado: {error}\")\n",
        "\n",
        "#cria o observable\n",
        "source = create(buy_stock_events)\n",
        "\n",
        "#define 0 observable\n",
        "source.subscribe(StockObserver())"
      ],
      "metadata": {
        "colab": {
          "base_uri": "https://localhost:8080/"
        },
        "id": "RjqKI8233LT8",
        "outputId": "ccbd8db2-a046-406e-a790-73e6d1eef400"
      },
      "execution_count": 31,
      "outputs": [
        {
          "output_type": "stream",
          "name": "stdout",
          "text": [
            "Instruções recebidas para comprar ação APPL\n",
            "Instruções recebidas para comprar ação TSLA\n",
            "Instruções recebidas para comprar ação MSFT\n",
            "Todas as ordens de compras foram finalizadas\n"
          ]
        },
        {
          "output_type": "execute_result",
          "data": {
            "text/plain": [
              "<rx.disposable.disposable.Disposable at 0x7f794b1679d0>"
            ]
          },
          "metadata": {},
          "execution_count": 31
        }
      ]
    },
    {
      "cell_type": "code",
      "source": [
        "# 2º Forma\n",
        "\n",
        "source = create(buy_stock_events)\n",
        "source.subscribe(\n",
        "    on_next = lambda value: print(f\"Instruções recebidas para comprar açao {value}\"),\n",
        "    on_completed = lambda: print(\"Instrução de compra finalizada\"),\n",
        "    on_error = lambda e: print(e)\n",
        ")"
      ],
      "metadata": {
        "colab": {
          "base_uri": "https://localhost:8080/"
        },
        "id": "4GCQx8w545iW",
        "outputId": "cea78b8b-9dfa-4aa5-885e-979d84afe3c3"
      },
      "execution_count": 32,
      "outputs": [
        {
          "output_type": "stream",
          "name": "stdout",
          "text": [
            "Instruções recebidas para comprar açao APPL\n",
            "Instruções recebidas para comprar açao TSLA\n",
            "Instruções recebidas para comprar açao MSFT\n",
            "Instrução de compra finalizada\n"
          ]
        },
        {
          "output_type": "execute_result",
          "data": {
            "text/plain": [
              "<rx.disposable.disposable.Disposable at 0x7f794b167910>"
            ]
          },
          "metadata": {},
          "execution_count": 32
        }
      ]
    },
    {
      "cell_type": "code",
      "source": [
        "# 1º Forma\n",
        "\n",
        "# Verifica tamanho das strings\n",
        "\n",
        "from rx import of, operators as op\n",
        "\n",
        "of(\"alpha\",\"Beta\",\"Gamma\",\" Delta\",\" Epslon\").pipe(\n",
        "    op.map(lambda s: len(s)),\n",
        "    op.filter(lambda i: i >= 5)\n",
        ").subscribe(lambda value: print(f\"Recebido {value}\"))"
      ],
      "metadata": {
        "colab": {
          "base_uri": "https://localhost:8080/"
        },
        "id": "UW2ApRN96Emx",
        "outputId": "53c358bd-dd7b-4996-f30a-fc019cae63dc"
      },
      "execution_count": 37,
      "outputs": [
        {
          "output_type": "stream",
          "name": "stdout",
          "text": [
            "Recebido 5\n",
            "Recebido 5\n",
            "Recebido 6\n",
            "Recebido 7\n"
          ]
        },
        {
          "output_type": "execute_result",
          "data": {
            "text/plain": [
              "<rx.disposable.disposable.Disposable at 0x7f794b177040>"
            ]
          },
          "metadata": {},
          "execution_count": 37
        }
      ]
    },
    {
      "cell_type": "code",
      "source": [
        "# 2º Forma\n",
        "\n",
        "from rx import of, operators as op\n",
        "\n",
        "source = of(\"alpha\",\"Beta\",\"Gamma\",\" Delta\",\" Epslon\")\n",
        "\n",
        "composed = source.pipe(\n",
        "    op.map(lambda s: len(s)),\n",
        "    op.filter(lambda i: i >= 5)\n",
        ")\n",
        "\n",
        "composed.subscribe(lambda value: print(f\"Recebido {value}\"))"
      ],
      "metadata": {
        "colab": {
          "base_uri": "https://localhost:8080/"
        },
        "id": "RUp2bGLg6y2M",
        "outputId": "e3a5cfce-5423-4210-9aa2-660069d6cc46"
      },
      "execution_count": 38,
      "outputs": [
        {
          "output_type": "stream",
          "name": "stdout",
          "text": [
            "Recebido 5\n",
            "Recebido 5\n",
            "Recebido 6\n",
            "Recebido 7\n"
          ]
        },
        {
          "output_type": "execute_result",
          "data": {
            "text/plain": [
              "<rx.disposable.disposable.Disposable at 0x7f794b17fbb0>"
            ]
          },
          "metadata": {},
          "execution_count": 38
        }
      ]
    },
    {
      "cell_type": "code",
      "source": [
        "# 3º Forma (através de uma função)\n",
        "\n",
        "import rx\n",
        "from rx import operators as ops\n",
        "\n",
        "def lenght_more_than_5():\n",
        "    return rx.pipe(\n",
        "       op.map(lambda s: len(s)),\n",
        "        op.filter(lambda i: i >= 5)\n",
        "    )\n",
        "\n",
        "rx.of(\"alpha\",\"Beta\",\"Gamma\",\" Delta\",\" Epslon\").pipe(\n",
        "    lenght_more_than_5()\n",
        ").subscribe(lambda value: print(f\"Recebido {value}\"))"
      ],
      "metadata": {
        "colab": {
          "base_uri": "https://localhost:8080/"
        },
        "id": "doThG8in7qgF",
        "outputId": "e4271fa7-6e83-41ce-a962-da0cbc645b6d"
      },
      "execution_count": 39,
      "outputs": [
        {
          "output_type": "stream",
          "name": "stdout",
          "text": [
            "Recebido 5\n",
            "Recebido 5\n",
            "Recebido 6\n",
            "Recebido 7\n"
          ]
        },
        {
          "output_type": "execute_result",
          "data": {
            "text/plain": [
              "<rx.disposable.disposable.Disposable at 0x7f794b148e50>"
            ]
          },
          "metadata": {},
          "execution_count": 39
        }
      ]
    }
  ]
}