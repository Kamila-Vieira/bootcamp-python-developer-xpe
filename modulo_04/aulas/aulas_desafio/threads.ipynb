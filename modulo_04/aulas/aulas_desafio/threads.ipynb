{
  "nbformat": 4,
  "nbformat_minor": 0,
  "metadata": {
    "colab": {
      "provenance": []
    },
    "kernelspec": {
      "name": "python3",
      "display_name": "Python 3"
    },
    "language_info": {
      "name": "python"
    }
  },
  "cells": [
    {
      "cell_type": "code",
      "execution_count": 6,
      "metadata": {
        "colab": {
          "base_uri": "https://localhost:8080/"
        },
        "id": "Lqmcz_htqvj0",
        "outputId": "88e4b301-f770-4cf3-eeff-85184bcef86b"
      },
      "outputs": [
        {
          "output_type": "stream",
          "name": "stdout",
          "text": [
            "olá mundo\n",
            "0\n",
            "1\n",
            "2\n",
            "3\n",
            "4\n",
            "5\n",
            "6\n",
            "7\n",
            "8\n",
            "9\n",
            "IGTI\n"
          ]
        }
      ],
      "source": [
        "from time import sleep\n",
        "\n",
        "print('olá mundo')\n",
        "\n",
        "for i in range(10):\n",
        "    print(i)\n",
        "    sleep(0.5)\n",
        "    \n",
        "print('IGTI')"
      ]
    },
    {
      "cell_type": "code",
      "source": [
        "from threading import Thread\n",
        "\n",
        "class TestThread(Thread):\n",
        "    def __init__(self, texto, tempo):\n",
        "        self.texto = texto\n",
        "        self.tempo = tempo\n",
        "\n",
        "        super().__init__()\n",
        "    \n",
        "    def run(self):\n",
        "        sleep(self.tempo)\n",
        "        print(self.texto)\n",
        "\n",
        "t1 = TestThread('Testando threading no tempo 1', 1)\n",
        "t2 = TestThread('Testando threading no tempo 2', 2)\n",
        "t3 = TestThread('Testando threading no tempo 3', 3)\n",
        "t4 = TestThread('Testando threading no tempo 4', 4)\n",
        "t5 = TestThread('Testando threading no tempo 5', 5)\n",
        "\n",
        "t1.start()\n",
        "t2.start()\n",
        "t3.start()\n",
        "t4.start()\n",
        "t5.start()\n",
        "\n",
        "for i in range(1, 6):\n",
        "    print(f'\\nindíce: {i}\\n')\n",
        "    sleep(1)"
      ],
      "metadata": {
        "colab": {
          "base_uri": "https://localhost:8080/"
        },
        "id": "PbH3VpirwQXW",
        "outputId": "5aae258b-d89e-4d0a-efa0-b32bf4081891"
      },
      "execution_count": 15,
      "outputs": [
        {
          "output_type": "stream",
          "name": "stdout",
          "text": [
            "\n",
            "indíce: 1\n",
            "\n",
            "Testando threading no tempo 1\n",
            "\n",
            "indíce: 2\n",
            "\n",
            "Testando threading no tempo 2\n",
            "\n",
            "indíce: 3\n",
            "\n",
            "Testando threading no tempo 3\n",
            "\n",
            "indíce: 4\n",
            "\n",
            "Testando threading no tempo 4\n",
            "\n",
            "indíce: 5\n",
            "\n",
            "Testando threading no tempo 5\n"
          ]
        }
      ]
    }
  ]
}