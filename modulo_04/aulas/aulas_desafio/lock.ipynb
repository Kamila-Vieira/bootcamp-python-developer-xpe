{
  "nbformat": 4,
  "nbformat_minor": 0,
  "metadata": {
    "colab": {
      "provenance": []
    },
    "kernelspec": {
      "name": "python3",
      "display_name": "Python 3"
    },
    "language_info": {
      "name": "python"
    }
  },
  "cells": [
    {
      "cell_type": "markdown",
      "source": [
        "## Método Lock"
      ],
      "metadata": {
        "id": "tD8UNLmVW1_n"
      }
    },
    {
      "cell_type": "code",
      "source": [
        "from time import sleep\n",
        "from threading import Thread, Lock"
      ],
      "metadata": {
        "id": "qnt9_zVsYm2m"
      },
      "execution_count": 1,
      "outputs": []
    },
    {
      "cell_type": "code",
      "execution_count": 15,
      "metadata": {
        "id": "XVKPqqgJWuA3"
      },
      "outputs": [],
      "source": [
        "class Paes:\n",
        "    def __init__(self, estoque):\n",
        "        self.estoque = estoque\n",
        "        self.lock = Lock()\n",
        "\n",
        "    def comprar(self, quantidade):\n",
        "        self.lock.acquire()\n",
        "\n",
        "        if self.estoque < quantidade:\n",
        "            print(f'Não temos pães suficientes.')\n",
        "            self.lock.release()\n",
        "            return\n",
        "\n",
        "        sleep(1)\n",
        "\n",
        "        self.estoque -= quantidade\n",
        "        print(f'Você comprou {quantidade} pão(aes). Ainda temos {self.estoque} em estoque')\n",
        "        self.lock.release()\n",
        "\n",
        "if __name__ == '__main__':\n",
        "    paes = Paes(10)\n",
        "    for i in range(1, 20):\n",
        "        thread = Thread(target=paes.comprar, args=(i,))\n",
        "        thread.start()"
      ]
    }
  ]
}