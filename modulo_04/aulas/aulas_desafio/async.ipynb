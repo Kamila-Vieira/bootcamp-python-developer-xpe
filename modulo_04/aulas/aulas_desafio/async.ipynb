{
  "nbformat": 4,
  "nbformat_minor": 0,
  "metadata": {
    "colab": {
      "provenance": []
    },
    "kernelspec": {
      "name": "python3",
      "display_name": "Python 3"
    },
    "language_info": {
      "name": "python"
    }
  },
  "cells": [
    {
      "cell_type": "code",
      "source": [
        "!pip install nest_asyncio"
      ],
      "metadata": {
        "colab": {
          "base_uri": "https://localhost:8080/"
        },
        "id": "n_jM9C4nhAog",
        "outputId": "a3db0878-f2b3-4a93-ca83-2a08788357f4"
      },
      "execution_count": null,
      "outputs": [
        {
          "output_type": "stream",
          "name": "stdout",
          "text": [
            "Looking in indexes: https://pypi.org/simple, https://us-python.pkg.dev/colab-wheels/public/simple/\n",
            "Collecting nest_asyncio\n",
            "  Downloading nest_asyncio-1.5.6-py3-none-any.whl (5.2 kB)\n",
            "Installing collected packages: nest_asyncio\n",
            "Successfully installed nest_asyncio-1.5.6\n"
          ]
        }
      ]
    },
    {
      "cell_type": "code",
      "execution_count": null,
      "metadata": {
        "id": "eR1GxsVZWvDG"
      },
      "outputs": [],
      "source": [
        "import nest_asyncio\n",
        "nest_asyncio.apply()\n",
        "import asyncio \n",
        "from multiprocessing import Pool, cpu_count\n",
        "import concurrent.futures\n",
        "import sys\n",
        "import time\n",
        "from enum import Enum\n",
        "import aiohttp\n",
        "import requests"
      ]
    },
    {
      "cell_type": "code",
      "source": [
        "def get_ids_cervejarias():\n",
        "    r = requests.get('https://api.openbrewerydb.org/breweries')\n",
        "    if r.status_code == 200:\n",
        "        return [r['id'] for r in r.json()]"
      ],
      "metadata": {
        "id": "QDlKxpxlgliz"
      },
      "execution_count": null,
      "outputs": []
    },
    {
      "cell_type": "code",
      "source": [
        "def get_cervejaria(id_c):\n",
        "    r = requests.get(f'https://api.openbrewerydb.org/breweries/{id_c}')\n",
        "    if r.status_code == 200:\n",
        "        print(r.json())"
      ],
      "metadata": {
        "id": "CbQ51p8ChMnP"
      },
      "execution_count": null,
      "outputs": []
    },
    {
      "cell_type": "code",
      "source": [
        "async def get_cervejaria_async(id_c, session):\n",
        "    async with session.get(f'https://api.openbrewerydb.org/breweries/{id_c}') as response:\n",
        "        print(await response.json())\n"
      ],
      "metadata": {
        "id": "VtNeD7G5hY4e"
      },
      "execution_count": null,
      "outputs": []
    },
    {
      "cell_type": "code",
      "source": [
        "async def processar_async(ids):\n",
        "    coros = []\n",
        "    async with aiohttp.ClientSession() as session:\n",
        "        for id_c in ids: \n",
        "            coros.append(get_cervejaria_async(id_c, session))\n",
        "\n",
        "        await asyncio.gather(*coros)"
      ],
      "metadata": {
        "id": "jPhDQ6THkjD3"
      },
      "execution_count": null,
      "outputs": []
    },
    {
      "cell_type": "code",
      "source": [
        "async def get_cervejaria_async_manual(id_c):\n",
        "    loop = asyncio.get_running_loop()\n",
        "    return await loop.run_in_executor(None, get_cervejaria, id_c)"
      ],
      "metadata": {
        "id": "hcgjrs9zkutn"
      },
      "execution_count": null,
      "outputs": []
    },
    {
      "cell_type": "code",
      "source": [
        "class TipoExecucao(Enum):\n",
        "    UM_PROCESSO = 1\n",
        "    VARIAS_THREADS = 2\n",
        "    ASYNCIO_COM_LIB_HTTP = 3"
      ],
      "metadata": {
        "id": "h0aVCnlGh-go"
      },
      "execution_count": null,
      "outputs": []
    },
    {
      "cell_type": "code",
      "source": [
        "if __name__ == '__main__':\n",
        "    started = time.time()\n",
        "\n",
        "    tipo_execucao = TipoExecucao.ASYNCIO_COM_LIB_HTTP\n",
        "    cores = cpu_count()\n",
        "\n",
        "    ids_cervejarias = get_ids_cervejarias()\n",
        "\n",
        "    if TipoExecucao.UM_PROCESSO == tipo_execucao:\n",
        "        # Usando somente um processo\n",
        "        for id_cervejaria in ids_cervejarias:\n",
        "            get_cervejaria(id_cervejaria)\n",
        "\n",
        "    elif TipoExecucao.VARIAS_THREADS == tipo_execucao:\n",
        "        # Usando varias threads\n",
        "        with concurrent.futures.ThreadPoolExecutor(cores) as thp:\n",
        "            thp.map(get_cervejaria, ids_cervejarias)\n",
        "\n",
        "    elif TipoExecucao.ASYNCIO_COM_LIB_HTTP == tipo_execucao:\n",
        "        # Usando asyncio\n",
        "        event_loop = asyncio.get_event_loop()\n",
        "        tasks = []\n",
        "\n",
        "        event_loop.run_until_complete(processar_async(ids_cervejarias))\n",
        "\n",
        "    elif TipoExecucao.ASYNCIO_MANUAL == tipo_execucao:\n",
        "        # Usando asyncio manual\n",
        "        event_loop = asyncio.get_event_loop()\n",
        "        tasks = []\n",
        "\n",
        "        for id_cervejaria in ids_cervejarias:\n",
        "            tasks.append(get_cervejaria_async_manual(id_cervejaria))\n",
        "\n",
        "        event_loop.run_until_complete(asyncio.wait(tasks))\n",
        "\n",
        "    elapsed = time.time()\n",
        "    print('Time taken :', elapsed - started)\n",
        "        "
      ],
      "metadata": {
        "colab": {
          "base_uri": "https://localhost:8080/"
        },
        "id": "jNHW6NImiCbf",
        "outputId": "96eaf2db-fadd-4e12-9e33-1734985d99cb"
      },
      "execution_count": null,
      "outputs": [
        {
          "output_type": "stream",
          "name": "stdout",
          "text": [
            "{'id': '10-barrel-brewing-co-bend-2', 'name': '10 Barrel Brewing Co', 'brewery_type': 'large', 'street': '1135 NW Galveston Ave Ste B', 'address_2': None, 'address_3': None, 'city': 'Bend', 'state': 'Oregon', 'county_province': None, 'postal_code': '97703-2465', 'country': 'United States', 'longitude': '-121.32880209261799', 'latitude': '44.057564901366796', 'phone': '5415851007', 'website_url': None, 'updated_at': '2022-11-11T05:07:58.723Z', 'created_at': '2022-11-11T05:07:58.723Z'}\n",
            "{'id': '12-west-brewing-company-production-facility-mesa', 'name': '12 West Brewing Company - Production Facility', 'brewery_type': 'micro', 'street': None, 'address_2': None, 'address_3': None, 'city': 'Mesa', 'state': 'Arizona', 'county_province': None, 'postal_code': '85207', 'country': 'United States', 'longitude': '-111.5860662', 'latitude': '33.436188', 'phone': None, 'website_url': None, 'updated_at': '2022-11-11T05:07:58.723Z', 'created_at': '2022-11-11T05:07:58.723Z'}\n",
            "{'id': '101-brewery-quilcene', 'name': '101 Brewery', 'brewery_type': 'brewpub', 'street': '294793 US Highway 101', 'address_2': None, 'address_3': None, 'city': 'Quilcene', 'state': 'Washington', 'county_province': None, 'postal_code': '98376-9000', 'country': 'United States', 'longitude': '-122.87558226136872', 'latitude': '47.823475773720666', 'phone': '3607656485', 'website_url': 'http://www.101brewery.com', 'updated_at': '2022-11-11T05:07:58.723Z', 'created_at': '2022-11-11T05:07:58.723Z'}\n",
            "{'id': '10-56-brewing-company-knox', 'name': '10-56 Brewing Company', 'brewery_type': 'micro', 'street': '400 Brown Cir', 'address_2': None, 'address_3': None, 'city': 'Knox', 'state': 'Indiana', 'county_province': None, 'postal_code': '46534', 'country': 'United States', 'longitude': '-86.627954', 'latitude': '41.289715', 'phone': '6308165790', 'website_url': None, 'updated_at': '2022-11-11T05:07:58.723Z', 'created_at': '2022-11-11T05:07:58.723Z'}\n",
            "{'id': '12-acres-brewing-company-killeshin', 'name': '12 Acres Brewing Company', 'brewery_type': 'micro', 'street': 'Unnamed Street', 'address_2': 'Clonmore', 'address_3': None, 'city': 'Killeshin', 'state': None, 'county_province': 'Laois', 'postal_code': 'R93 X3X8', 'country': 'Ireland', 'longitude': '-6.979343891', 'latitude': '52.84930763', 'phone': '+353599107299', 'website_url': 'https://12acresbrewing.ie/', 'updated_at': '2022-11-11T05:07:58.723Z', 'created_at': '2022-11-11T05:07:58.723Z'}\n",
            "{'id': '105-west-brewing-co-castle-rock', 'name': '105 West Brewing Co', 'brewery_type': 'micro', 'street': '1043 Park St', 'address_2': None, 'address_3': None, 'city': 'Castle Rock', 'state': 'Colorado', 'county_province': None, 'postal_code': '80109-1585', 'country': 'United States', 'longitude': '-104.8667206', 'latitude': '39.38269495', 'phone': '3033257321', 'website_url': 'http://www.105westbrewing.com', 'updated_at': '2022-11-11T05:07:58.723Z', 'created_at': '2022-11-11T05:07:58.723Z'}\n",
            "{'id': '101-north-brewing-company-petaluma', 'name': '101 North Brewing Company', 'brewery_type': 'closed', 'street': '1304 Scott St Ste D', 'address_2': None, 'address_3': None, 'city': 'Petaluma', 'state': 'California', 'county_province': None, 'postal_code': '94954-7100', 'country': 'United States', 'longitude': '-122.66505504468803', 'latitude': '38.270293813150886', 'phone': '7077534934', 'website_url': 'http://www.101northbeer.com', 'updated_at': '2022-11-11T05:07:58.723Z', 'created_at': '2022-11-11T05:07:58.723Z'}\n",
            "{'id': '11-below-brewing-company-houston', 'name': '11 Below Brewing Company', 'brewery_type': 'micro', 'street': '6820 Bourgeois Rd', 'address_2': None, 'address_3': None, 'city': 'Houston', 'state': 'Texas', 'county_province': None, 'postal_code': '77066-3107', 'country': 'United States', 'longitude': '-95.5186591', 'latitude': '29.9515464', 'phone': '2814442337', 'website_url': 'http://www.11belowbrewing.com', 'updated_at': '2022-11-11T05:07:58.723Z', 'created_at': '2022-11-11T05:07:58.723Z'}\n",
            "{'id': '10-barrel-brewing-co-boise-boise', 'name': '10 Barrel Brewing Co - Boise', 'brewery_type': 'large', 'street': '826 W Bannock St', 'address_2': None, 'address_3': None, 'city': 'Boise', 'state': 'Idaho', 'county_province': None, 'postal_code': '83702-5857', 'country': 'United States', 'longitude': '-116.202929', 'latitude': '43.618516', 'phone': '2083445870', 'website_url': 'http://www.10barrel.com', 'updated_at': '2022-11-11T05:07:58.723Z', 'created_at': '2022-11-11T05:07:58.723Z'}\n",
            "{'id': '10-barrel-brewing-co-san-diego', 'name': '10 Barrel Brewing Co', 'brewery_type': 'large', 'street': '1501 E St', 'address_2': None, 'address_3': None, 'city': 'San Diego', 'state': 'California', 'county_province': None, 'postal_code': '92101-6618', 'country': 'United States', 'longitude': '-117.129593', 'latitude': '32.714813', 'phone': '6195782311', 'website_url': 'http://10barrel.com', 'updated_at': '2022-11-11T05:07:58.723Z', 'created_at': '2022-11-11T05:07:58.723Z'}\n",
            "{'id': '12-west-brewing-company-gilbert', 'name': '12 West Brewing Company', 'brewery_type': 'micro', 'street': '3000 E Ray Rd Bldg 6', 'address_2': None, 'address_3': None, 'city': 'Gilbert', 'state': 'Arizona', 'county_province': None, 'postal_code': '85296-7832', 'country': 'United States', 'longitude': None, 'latitude': None, 'phone': '6023395014', 'website_url': 'http://www.12westbrewing.com', 'updated_at': '2022-11-11T05:07:58.723Z', 'created_at': '2022-11-11T05:07:58.723Z'}\n",
            "{'id': '10k-brewing-anoka', 'name': '10K Brewing', 'brewery_type': 'micro', 'street': '2005 2nd Ave', 'address_2': None, 'address_3': None, 'city': 'Anoka', 'state': 'Minnesota', 'county_province': None, 'postal_code': '55303-2243', 'country': 'United States', 'longitude': '-93.38952559', 'latitude': '45.19812039', 'phone': '7633924753', 'website_url': 'http://10KBrew.com', 'updated_at': '2022-11-11T05:07:58.723Z', 'created_at': '2022-11-11T05:07:58.723Z'}\n",
            "{'id': '10-barrel-brewing-co-bend-pub-bend', 'name': '10 Barrel Brewing Co - Bend Pub', 'brewery_type': 'large', 'street': '62950 NE 18th St', 'address_2': None, 'address_3': None, 'city': 'Bend', 'state': 'Oregon', 'county_province': None, 'postal_code': '97701', 'country': 'United States', 'longitude': '-121.2809536', 'latitude': '44.0912109', 'phone': '5415851007', 'website_url': None, 'updated_at': '2022-11-11T05:07:58.723Z', 'created_at': '2022-11-11T05:07:58.723Z'}\n",
            "{'id': '10-barrel-brewing-co-bend-1', 'name': '10 Barrel Brewing Co', 'brewery_type': 'large', 'street': '62970 18th St', 'address_2': None, 'address_3': None, 'city': 'Bend', 'state': 'Oregon', 'county_province': None, 'postal_code': '97701-9847', 'country': 'United States', 'longitude': '-121.28170597038259', 'latitude': '44.08683530625218', 'phone': '5415851007', 'website_url': 'http://www.10barrel.com', 'updated_at': '2022-11-11T05:07:58.723Z', 'created_at': '2022-11-11T05:07:58.723Z'}\n",
            "{'id': '10-torr-distilling-and-brewing-reno', 'name': '10 Torr Distilling and Brewing', 'brewery_type': 'micro', 'street': '490 Mill St', 'address_2': None, 'address_3': None, 'city': 'Reno', 'state': 'Nevada', 'county_province': None, 'postal_code': '89502', 'country': 'United States', 'longitude': '-119.7732015', 'latitude': '39.5171702', 'phone': '7755307014', 'website_url': 'http://www.10torr.com', 'updated_at': '2022-11-11T05:07:58.723Z', 'created_at': '2022-11-11T05:07:58.723Z'}\n",
            "{'id': '10th-district-brewing-company-abington', 'name': '10th District Brewing Company', 'brewery_type': 'micro', 'street': '491 Washington St', 'address_2': None, 'address_3': None, 'city': 'Abington', 'state': 'Massachusetts', 'county_province': None, 'postal_code': '02351-2419', 'country': 'United States', 'longitude': '-70.94594149', 'latitude': '42.10591754', 'phone': '7813071554', 'website_url': 'http://www.10thdistrictbrewing.com', 'updated_at': '2022-11-11T05:07:58.723Z', 'created_at': '2022-11-11T05:07:58.723Z'}\n",
            "{'id': '12-gates-brewing-company-williamsville', 'name': '12 Gates Brewing Company', 'brewery_type': 'brewpub', 'street': '80 Earhart Dr Ste 20', 'address_2': None, 'address_3': None, 'city': 'Williamsville', 'state': 'New York', 'county_province': None, 'postal_code': '14221-7804', 'country': 'United States', 'longitude': None, 'latitude': None, 'phone': '7169066600', 'website_url': 'http://www.12gatesbrewing.com', 'updated_at': '2022-11-11T05:07:58.723Z', 'created_at': '2022-11-11T05:07:58.723Z'}\n",
            "{'id': '1188-brewing-co-john-day', 'name': '1188 Brewing Co', 'brewery_type': 'brewpub', 'street': '141 E Main St', 'address_2': None, 'address_3': None, 'city': 'John Day', 'state': 'Oregon', 'county_province': None, 'postal_code': '97845-1210', 'country': 'United States', 'longitude': '-118.9218754', 'latitude': '44.4146563', 'phone': '5415751188', 'website_url': 'http://www.1188brewing.com', 'updated_at': '2022-11-11T05:07:58.723Z', 'created_at': '2022-11-11T05:07:58.723Z'}\n",
            "{'id': '10-barrel-brewing-co-denver-denver', 'name': '10 Barrel Brewing Co - Denver', 'brewery_type': 'large', 'street': '2620 Walnut St', 'address_2': None, 'address_3': None, 'city': 'Denver', 'state': 'Colorado', 'county_province': None, 'postal_code': '80205-2231', 'country': 'United States', 'longitude': '-104.9853655', 'latitude': '39.7592508', 'phone': '7205738992', 'website_url': None, 'updated_at': '2022-11-11T05:07:58.723Z', 'created_at': '2022-11-11T05:07:58.723Z'}\n",
            "{'id': '10-barrel-brewing-co-portland', 'name': '10 Barrel Brewing Co', 'brewery_type': 'large', 'street': '1411 NW Flanders St', 'address_2': None, 'address_3': None, 'city': 'Portland', 'state': 'Oregon', 'county_province': None, 'postal_code': '97209-2620', 'country': 'United States', 'longitude': '-122.6855056', 'latitude': '45.5259786', 'phone': '5032241700', 'website_url': 'http://www.10barrel.com', 'updated_at': '2022-11-11T05:07:58.723Z', 'created_at': '2022-11-11T05:07:58.723Z'}\n",
            "Time taken : 0.4740030765533447\n"
          ]
        }
      ]
    }
  ]
}